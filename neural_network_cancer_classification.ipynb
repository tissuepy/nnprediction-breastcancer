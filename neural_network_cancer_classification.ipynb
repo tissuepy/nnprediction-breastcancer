{
  "nbformat": 4,
  "nbformat_minor": 0,
  "metadata": {
    "colab": {
      "provenance": [],
      "gpuType": "T4"
    },
    "kernelspec": {
      "name": "python3",
      "display_name": "Python 3"
    },
    "language_info": {
      "name": "python"
    },
    "accelerator": "GPU"
  },
  "cells": [
    {
      "cell_type": "code",
      "execution_count": null,
      "metadata": {
        "id": "By4CKtQFZ_bC"
      },
      "outputs": [],
      "source": [
        "import torch\n",
        "import torch.nn as nn ## importing neural network class from torch\n",
        "import torch.optim as optim ## loads stochastic gradient descent and other functions\n",
        "from sklearn.datasets import load_breast_cancer\n",
        "from sklearn.model_selection import train_test_split\n",
        "from sklearn.preprocessing import StandardScaler"
      ]
    },
    {
      "cell_type": "markdown",
      "source": [
        "### Device Confirguration"
      ],
      "metadata": {
        "id": "HV5ozCWrbzrZ"
      }
    },
    {
      "cell_type": "code",
      "source": [
        "## check for CUDA availability -- cuda is a parallel processing software // use cuda architecture if the GPU is available\n",
        "device = torch.device(\"cuda\" if torch.cuda.is_available() else \"cpu\")\n",
        "print(f\"Using {device}\") ## using Cuda -> output"
      ],
      "metadata": {
        "colab": {
          "base_uri": "https://localhost:8080/"
        },
        "id": "Uu38QgYHbyyF",
        "outputId": "514b46a8-f570-4eff-bfa7-e50d9f707501"
      },
      "execution_count": null,
      "outputs": [
        {
          "output_type": "stream",
          "name": "stdout",
          "text": [
            "Using cuda\n"
          ]
        }
      ]
    },
    {
      "cell_type": "markdown",
      "source": [
        "#Data Collection & Processing\n"
      ],
      "metadata": {
        "id": "IQfqW78Ycf2L"
      }
    },
    {
      "cell_type": "code",
      "source": [
        "# load the breast cancer dataset\n",
        "\n",
        "data = load_breast_cancer()\n",
        "X = data.data\n",
        "y = data.target"
      ],
      "metadata": {
        "id": "Ky7TS_RBcevw"
      },
      "execution_count": null,
      "outputs": []
    },
    {
      "cell_type": "markdown",
      "source": [
        "#Split the Dataset"
      ],
      "metadata": {
        "id": "rhIbESzqc3kY"
      }
    },
    {
      "cell_type": "code",
      "source": [
        "X_train, X_test, y_train, y_test = train_test_split(X,y, test_size = 0.2, random_state = 42)"
      ],
      "metadata": {
        "id": "0TMGMqthc24w"
      },
      "execution_count": null,
      "outputs": []
    },
    {
      "cell_type": "code",
      "source": [
        "print(X.shape)\n",
        "print(X_train.shape) ## approx 80% of data will be used for training the model\n",
        "print(X_test.shape) ## approx 20% of the data will be used for r-valuation"
      ],
      "metadata": {
        "colab": {
          "base_uri": "https://localhost:8080/"
        },
        "id": "mT0BwwHBdD6z",
        "outputId": "72b0ba26-7598-4bc3-9f60-7846a979e886"
      },
      "execution_count": null,
      "outputs": [
        {
          "output_type": "stream",
          "name": "stdout",
          "text": [
            "(569, 30)\n",
            "(455, 30)\n",
            "(114, 30)\n"
          ]
        }
      ]
    },
    {
      "cell_type": "markdown",
      "source": [
        "#Standardize Data"
      ],
      "metadata": {
        "id": "MFieQXHUdy-K"
      }
    },
    {
      "cell_type": "code",
      "source": [
        "## standardize the data // prevents data leakage -- StandardScalar (ensures the normal distribution of data)\n",
        "scaler = StandardScaler()\n",
        "\n",
        "X_train = scaler.fit_transform(X_train)\n",
        "X_test = scaler.transform(X_test)"
      ],
      "metadata": {
        "id": "E59HJDPudxHf"
      },
      "execution_count": null,
      "outputs": []
    },
    {
      "cell_type": "code",
      "source": [
        "## check the type of the x_train and x_test data\n",
        "type(X_train) # -> numpy array\n",
        "type(X_test) # -> numpy array"
      ],
      "metadata": {
        "colab": {
          "base_uri": "https://localhost:8080/"
        },
        "id": "FcdFyw50ekvf",
        "outputId": "7aa0b632-2b39-41f3-b136-fe85b6e29443"
      },
      "execution_count": null,
      "outputs": [
        {
          "output_type": "execute_result",
          "data": {
            "text/plain": [
              "numpy.ndarray"
            ]
          },
          "metadata": {},
          "execution_count": 34
        }
      ]
    },
    {
      "cell_type": "code",
      "source": [
        "# convert the data to PyTorch tensors and move it to the GPU\n",
        "X_train = torch.tensor(X_train, dtype=torch.float32).to(device) # -> moves the training data to the GPU after converting it to a PyTorch Tensor\n",
        "X_test = torch.tensor(X_test, dtype=torch.float32).to(device)\n",
        "y_train = torch.tensor(y_train, dtype=torch.float32).to(device)\n",
        "y_test = torch.tensor(y_test, dtype=torch.float32).to(device)"
      ],
      "metadata": {
        "colab": {
          "base_uri": "https://localhost:8080/"
        },
        "collapsed": true,
        "id": "eo4oVsdJev93",
        "outputId": "7f65d603-dd0e-4996-c735-eb6963aace75"
      },
      "execution_count": null,
      "outputs": [
        {
          "output_type": "stream",
          "name": "stderr",
          "text": [
            "<ipython-input-39-9bef028aae93>:1: UserWarning: To copy construct from a tensor, it is recommended to use sourceTensor.clone().detach() or sourceTensor.clone().detach().requires_grad_(True), rather than torch.tensor(sourceTensor).\n",
            "  y_test = torch.tensor(y_test, dtype=torch.float32).to(device)\n"
          ]
        }
      ]
    },
    {
      "cell_type": "markdown",
      "source": [
        "#Neural Network Architecture"
      ],
      "metadata": {
        "id": "xHcShLwfgBRb"
      }
    },
    {
      "cell_type": "code",
      "source": [
        "# inheriting the parameters from tne nn.Module to the custom class that is being defined\n",
        "\n",
        "class neuralNet(nn.Module):\n",
        "    def __init__(self, input_size, hidden_size, output_size):\n",
        "        super(neuralNet, self).__init__()\n",
        "        self.fc1 = nn.Linear(input_size, hidden_size)  # Fully connected layer\n",
        "        self.relu = nn.ReLU()  # ReLU activation function\n",
        "        self.fc2 = nn.Linear(hidden_size, output_size)  # Second fully connected layer\n",
        "        self.sigmoid = nn.Sigmoid()  # Sigmoid activation for output\n",
        "\n",
        "    def forward(self, x):\n",
        "        out = self.fc1(x)  # Linear transformation (fully connected layer)\n",
        "        out = self.relu(out)  # Apply ReLU activation\n",
        "        out = self.fc2(out)  # Pass through second layer\n",
        "        out = self.sigmoid(out)  # Apply Sigmoid to get final output\n",
        "        return out\n"
      ],
      "metadata": {
        "id": "cZDbhlHuf6-R"
      },
      "execution_count": null,
      "outputs": []
    },
    {
      "cell_type": "code",
      "source": [
        "# define the hyperparameters\n",
        "input_size = X_train.shape[1] # -> represents the 30 features in the training data\n",
        "hidden_size = 64\n",
        "output_size = 1 # -> single neuron that gives the value between 0-1\n",
        "learning_rate = 0.001\n",
        "quant_epochs = 300\n"
      ],
      "metadata": {
        "id": "4QRCnODQjwkT"
      },
      "execution_count": null,
      "outputs": []
    },
    {
      "cell_type": "markdown",
      "source": [
        "# Initialize the Neural Network"
      ],
      "metadata": {
        "id": "8jDU-Y0RkX-8"
      }
    },
    {
      "cell_type": "code",
      "source": [
        "# initialize the model\n",
        "model = neuralNet(input_size, hidden_size, output_size).to(device) # moves the neural network to the device\n",
        "# instance of the neural network is being defined"
      ],
      "metadata": {
        "id": "sHy3LJaDkWml"
      },
      "execution_count": null,
      "outputs": []
    },
    {
      "cell_type": "code",
      "source": [
        "# define the loss and optimizer\n",
        "criterion = nn.BCELoss()\n",
        "optimizer = optim.Adam(model.parameters(), lr=learning_rate)\n"
      ],
      "metadata": {
        "id": "lFjtrh0NkpJ2"
      },
      "execution_count": null,
      "outputs": []
    },
    {
      "cell_type": "code",
      "source": [
        "# training the model\n",
        "for epoch in range(quant_epochs):\n",
        "  model.train()\n",
        "  optimizer.zero_grad() # -> each time a batch is passed, resets the gradients to 0 (prevents gradient accumulation)\n",
        "  outputs = model(X_train)  # Get predictions for training data\n",
        "  loss = criterion(outputs, y_train.view(-1,1)) # -> calculates the loss function with the predicted outputs\n",
        "  loss.backward() # -> backward propogation\n",
        "  optimizer.step() # -> updates the weights and bias based on the backwards proporgation\n",
        "\n",
        "# calculate the model accuracy\n",
        "  with torch.no_grad():\n",
        "    predicted = outputs.round()\n",
        "    correct = (predicted == y_train.view(-1,1)).float().sum()\n",
        "    accuracy = correct/y_train.size(0)\n",
        "\n",
        "  if (epoch+1) % 10 == 0: ## for every 10th epoch, we are keeping track of the loss, accuracy, and the epoch\n",
        "    print(f\"Epoch [{epoch+1}/{quant_epochs}], Loss: {loss.item():.4f}, Accuracy: {accuracy.item() * 100:.2f}%\")\n"
      ],
      "metadata": {
        "colab": {
          "base_uri": "https://localhost:8080/"
        },
        "collapsed": true,
        "id": "NiLwNqKBlBzp",
        "outputId": "0021fd5d-ee10-407a-e73b-13e120b543aa"
      },
      "execution_count": null,
      "outputs": [
        {
          "output_type": "stream",
          "name": "stdout",
          "text": [
            "Epoch [10/300], Loss: 0.5189, Accuracy: 89.23%\n",
            "Epoch [20/300], Loss: 0.3960, Accuracy: 91.87%\n",
            "Epoch [30/300], Loss: 0.3071, Accuracy: 92.97%\n",
            "Epoch [40/300], Loss: 0.2453, Accuracy: 93.85%\n",
            "Epoch [50/300], Loss: 0.2026, Accuracy: 94.51%\n",
            "Epoch [60/300], Loss: 0.1723, Accuracy: 95.38%\n",
            "Epoch [70/300], Loss: 0.1502, Accuracy: 95.82%\n",
            "Epoch [80/300], Loss: 0.1335, Accuracy: 96.48%\n",
            "Epoch [90/300], Loss: 0.1206, Accuracy: 97.14%\n",
            "Epoch [100/300], Loss: 0.1103, Accuracy: 97.80%\n",
            "Epoch [110/300], Loss: 0.1018, Accuracy: 97.80%\n",
            "Epoch [120/300], Loss: 0.0948, Accuracy: 98.02%\n",
            "Epoch [130/300], Loss: 0.0888, Accuracy: 98.24%\n",
            "Epoch [140/300], Loss: 0.0836, Accuracy: 98.24%\n",
            "Epoch [150/300], Loss: 0.0791, Accuracy: 98.24%\n",
            "Epoch [160/300], Loss: 0.0751, Accuracy: 98.24%\n",
            "Epoch [170/300], Loss: 0.0714, Accuracy: 98.24%\n",
            "Epoch [180/300], Loss: 0.0682, Accuracy: 98.24%\n",
            "Epoch [190/300], Loss: 0.0653, Accuracy: 98.24%\n",
            "Epoch [200/300], Loss: 0.0627, Accuracy: 98.46%\n",
            "Epoch [210/300], Loss: 0.0602, Accuracy: 98.46%\n",
            "Epoch [220/300], Loss: 0.0580, Accuracy: 98.46%\n",
            "Epoch [230/300], Loss: 0.0560, Accuracy: 98.68%\n",
            "Epoch [240/300], Loss: 0.0541, Accuracy: 98.68%\n",
            "Epoch [250/300], Loss: 0.0523, Accuracy: 98.68%\n",
            "Epoch [260/300], Loss: 0.0505, Accuracy: 98.68%\n",
            "Epoch [270/300], Loss: 0.0489, Accuracy: 98.68%\n",
            "Epoch [280/300], Loss: 0.0474, Accuracy: 98.90%\n",
            "Epoch [290/300], Loss: 0.0460, Accuracy: 99.12%\n",
            "Epoch [300/300], Loss: 0.0446, Accuracy: 99.12%\n"
          ]
        }
      ]
    },
    {
      "cell_type": "markdown",
      "source": [
        "# Model Evaluation"
      ],
      "metadata": {
        "id": "tOT0l0dzpn3Y"
      }
    },
    {
      "cell_type": "code",
      "source": [
        "# evaluation on training set\n",
        "model.eval()\n",
        "with torch.no_grad():\n",
        "  outputs = model(X_train)\n",
        "  predicted = outputs.round()\n",
        "  correct = (predicted == y_train.view(-1,1)).float().sum()\n",
        "  accuracy = correct/y_train.size(0)\n",
        "  print(f\"Accuracy on training data: {accuracy.item() * 100:.2f}%\")\n"
      ],
      "metadata": {
        "colab": {
          "base_uri": "https://localhost:8080/"
        },
        "id": "Qw0WgW9apneq",
        "outputId": "0bca6f14-de5e-459d-f773-5ff60a9d51e3"
      },
      "execution_count": null,
      "outputs": [
        {
          "output_type": "stream",
          "name": "stdout",
          "text": [
            "Accuracy on training data: 99.12%\n"
          ]
        }
      ]
    },
    {
      "cell_type": "code",
      "source": [
        "# evaluation on the test set\n",
        "model.eval()\n",
        "with torch.no_grad():\n",
        "  outputs = model(X_test)\n",
        "  predicted = outputs.round()\n",
        "  correct = (predicted == y_test.view(-1,1)).float().sum()\n",
        "  accuracy = correct/y_test.size(0)\n",
        "  print(f\"Accuracy on training data: {accuracy.item() * 100:.2f}%\")\n"
      ],
      "metadata": {
        "colab": {
          "base_uri": "https://localhost:8080/"
        },
        "id": "qUUX4Ic-qZ_M",
        "outputId": "ff8a86d5-6e92-43e0-87e7-e2bb1c99ea7e"
      },
      "execution_count": null,
      "outputs": [
        {
          "output_type": "stream",
          "name": "stdout",
          "text": [
            "Accuracy on training data: 43.86%\n"
          ]
        }
      ]
    }
  ]
}